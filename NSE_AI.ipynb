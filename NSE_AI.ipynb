{
  "nbformat": 4,
  "nbformat_minor": 0,
  "metadata": {
    "colab": {
      "provenance": [],
      "include_colab_link": true
    },
    "kernelspec": {
      "name": "python3",
      "display_name": "Python 3"
    },
    "language_info": {
      "name": "python"
    }
  },
  "cells": [
    {
      "cell_type": "markdown",
      "metadata": {
        "id": "view-in-github",
        "colab_type": "text"
      },
      "source": [
        "<a href=\"https://colab.research.google.com/github/ElizabethWaithera/Machine_learning/blob/main/NSE_AI.ipynb\" target=\"_parent\"><img src=\"https://colab.research.google.com/assets/colab-badge.svg\" alt=\"Open In Colab\"/></a>"
      ]
    },
    {
      "cell_type": "markdown",
      "source": [
        "# NAIROBI STOCK EXCHANGE AI PREDICTOR\n",
        "\n",
        " ## 1. Market News:\n",
        " *We start by building a pipeline for accessing market news that contains valuable information that might affect stock movement of a given NSE company*\n",
        "   \n",
        "   \n",
        "\n",
        "We will use news api, follow the link to get an API for free\n",
        "\n",
        "*   https://newsapi.org/docs/endpoints/everything\n",
        "\n",
        "\n"
      ],
      "metadata": {
        "id": "a3VBn7Ux4YbC"
      }
    },
    {
      "cell_type": "code",
      "source": [
        "# Install the newsapi python library\n",
        "!pip install newsapi-python\n",
        "!pip install serpapi\n",
        "!pip install yfinance\n",
        "!pip install yahooquery"
      ],
      "metadata": {
        "colab": {
          "base_uri": "https://localhost:8080/"
        },
        "id": "8SLjkamk4QTI",
        "outputId": "65d89b95-2ca8-4fbb-ef1a-39644d9870b9"
      },
      "execution_count": null,
      "outputs": [
        {
          "output_type": "stream",
          "name": "stdout",
          "text": [
            "Requirement already satisfied: newsapi-python in /usr/local/lib/python3.10/dist-packages (0.2.7)\n",
            "Requirement already satisfied: requests<3.0.0 in /usr/local/lib/python3.10/dist-packages (from newsapi-python) (2.31.0)\n",
            "Requirement already satisfied: charset-normalizer<4,>=2 in /usr/local/lib/python3.10/dist-packages (from requests<3.0.0->newsapi-python) (3.3.2)\n",
            "Requirement already satisfied: idna<4,>=2.5 in /usr/local/lib/python3.10/dist-packages (from requests<3.0.0->newsapi-python) (3.6)\n",
            "Requirement already satisfied: urllib3<3,>=1.21.1 in /usr/local/lib/python3.10/dist-packages (from requests<3.0.0->newsapi-python) (2.0.7)\n",
            "Requirement already satisfied: certifi>=2017.4.17 in /usr/local/lib/python3.10/dist-packages (from requests<3.0.0->newsapi-python) (2024.2.2)\n",
            "Requirement already satisfied: serpapi in /usr/local/lib/python3.10/dist-packages (0.1.5)\n",
            "Requirement already satisfied: requests in /usr/local/lib/python3.10/dist-packages (from serpapi) (2.31.0)\n",
            "Requirement already satisfied: charset-normalizer<4,>=2 in /usr/local/lib/python3.10/dist-packages (from requests->serpapi) (3.3.2)\n",
            "Requirement already satisfied: idna<4,>=2.5 in /usr/local/lib/python3.10/dist-packages (from requests->serpapi) (3.6)\n",
            "Requirement already satisfied: urllib3<3,>=1.21.1 in /usr/local/lib/python3.10/dist-packages (from requests->serpapi) (2.0.7)\n",
            "Requirement already satisfied: certifi>=2017.4.17 in /usr/local/lib/python3.10/dist-packages (from requests->serpapi) (2024.2.2)\n",
            "Requirement already satisfied: yfinance in /usr/local/lib/python3.10/dist-packages (0.2.36)\n",
            "Requirement already satisfied: pandas>=1.3.0 in /usr/local/lib/python3.10/dist-packages (from yfinance) (2.2.0)\n",
            "Requirement already satisfied: numpy>=1.16.5 in /usr/local/lib/python3.10/dist-packages (from yfinance) (1.23.5)\n",
            "Requirement already satisfied: requests>=2.31 in /usr/local/lib/python3.10/dist-packages (from yfinance) (2.31.0)\n",
            "Requirement already satisfied: multitasking>=0.0.7 in /usr/local/lib/python3.10/dist-packages (from yfinance) (0.0.11)\n",
            "Requirement already satisfied: lxml>=4.9.1 in /usr/local/lib/python3.10/dist-packages (from yfinance) (4.9.4)\n",
            "Requirement already satisfied: appdirs>=1.4.4 in /usr/local/lib/python3.10/dist-packages (from yfinance) (1.4.4)\n",
            "Requirement already satisfied: pytz>=2022.5 in /usr/local/lib/python3.10/dist-packages (from yfinance) (2023.4)\n",
            "Requirement already satisfied: frozendict>=2.3.4 in /usr/local/lib/python3.10/dist-packages (from yfinance) (2.4.0)\n",
            "Requirement already satisfied: peewee>=3.16.2 in /usr/local/lib/python3.10/dist-packages (from yfinance) (3.17.1)\n",
            "Requirement already satisfied: beautifulsoup4>=4.11.1 in /usr/local/lib/python3.10/dist-packages (from yfinance) (4.12.3)\n",
            "Requirement already satisfied: html5lib>=1.1 in /usr/local/lib/python3.10/dist-packages (from yfinance) (1.1)\n",
            "Requirement already satisfied: soupsieve>1.2 in /usr/local/lib/python3.10/dist-packages (from beautifulsoup4>=4.11.1->yfinance) (2.5)\n",
            "Requirement already satisfied: six>=1.9 in /usr/local/lib/python3.10/dist-packages (from html5lib>=1.1->yfinance) (1.16.0)\n",
            "Requirement already satisfied: webencodings in /usr/local/lib/python3.10/dist-packages (from html5lib>=1.1->yfinance) (0.5.1)\n",
            "Requirement already satisfied: python-dateutil>=2.8.2 in /usr/local/lib/python3.10/dist-packages (from pandas>=1.3.0->yfinance) (2.8.2)\n",
            "Requirement already satisfied: tzdata>=2022.7 in /usr/local/lib/python3.10/dist-packages (from pandas>=1.3.0->yfinance) (2023.4)\n",
            "Requirement already satisfied: charset-normalizer<4,>=2 in /usr/local/lib/python3.10/dist-packages (from requests>=2.31->yfinance) (3.3.2)\n",
            "Requirement already satisfied: idna<4,>=2.5 in /usr/local/lib/python3.10/dist-packages (from requests>=2.31->yfinance) (3.6)\n",
            "Requirement already satisfied: urllib3<3,>=1.21.1 in /usr/local/lib/python3.10/dist-packages (from requests>=2.31->yfinance) (2.0.7)\n",
            "Requirement already satisfied: certifi>=2017.4.17 in /usr/local/lib/python3.10/dist-packages (from requests>=2.31->yfinance) (2024.2.2)\n",
            "Requirement already satisfied: yahooquery in /usr/local/lib/python3.10/dist-packages (2.3.7)\n",
            "Requirement already satisfied: beautifulsoup4<5.0.0,>=4.12.2 in /usr/local/lib/python3.10/dist-packages (from yahooquery) (4.12.3)\n",
            "Requirement already satisfied: lxml<5.0.0,>=4.9.3 in /usr/local/lib/python3.10/dist-packages (from yahooquery) (4.9.4)\n",
            "Requirement already satisfied: pandas<3.0.0,>=2.0.3 in /usr/local/lib/python3.10/dist-packages (from yahooquery) (2.2.0)\n",
            "Requirement already satisfied: requests<3.0.0,>=2.31.0 in /usr/local/lib/python3.10/dist-packages (from yahooquery) (2.31.0)\n",
            "Requirement already satisfied: requests-futures<2.0.0,>=1.0.1 in /usr/local/lib/python3.10/dist-packages (from yahooquery) (1.0.1)\n",
            "Requirement already satisfied: tqdm<5.0.0,>=4.65.0 in /usr/local/lib/python3.10/dist-packages (from yahooquery) (4.66.1)\n",
            "Requirement already satisfied: soupsieve>1.2 in /usr/local/lib/python3.10/dist-packages (from beautifulsoup4<5.0.0,>=4.12.2->yahooquery) (2.5)\n",
            "Requirement already satisfied: numpy<2,>=1.22.4 in /usr/local/lib/python3.10/dist-packages (from pandas<3.0.0,>=2.0.3->yahooquery) (1.23.5)\n",
            "Requirement already satisfied: python-dateutil>=2.8.2 in /usr/local/lib/python3.10/dist-packages (from pandas<3.0.0,>=2.0.3->yahooquery) (2.8.2)\n",
            "Requirement already satisfied: pytz>=2020.1 in /usr/local/lib/python3.10/dist-packages (from pandas<3.0.0,>=2.0.3->yahooquery) (2023.4)\n",
            "Requirement already satisfied: tzdata>=2022.7 in /usr/local/lib/python3.10/dist-packages (from pandas<3.0.0,>=2.0.3->yahooquery) (2023.4)\n",
            "Requirement already satisfied: charset-normalizer<4,>=2 in /usr/local/lib/python3.10/dist-packages (from requests<3.0.0,>=2.31.0->yahooquery) (3.3.2)\n",
            "Requirement already satisfied: idna<4,>=2.5 in /usr/local/lib/python3.10/dist-packages (from requests<3.0.0,>=2.31.0->yahooquery) (3.6)\n",
            "Requirement already satisfied: urllib3<3,>=1.21.1 in /usr/local/lib/python3.10/dist-packages (from requests<3.0.0,>=2.31.0->yahooquery) (2.0.7)\n",
            "Requirement already satisfied: certifi>=2017.4.17 in /usr/local/lib/python3.10/dist-packages (from requests<3.0.0,>=2.31.0->yahooquery) (2024.2.2)\n",
            "Requirement already satisfied: six>=1.5 in /usr/local/lib/python3.10/dist-packages (from python-dateutil>=2.8.2->pandas<3.0.0,>=2.0.3->yahooquery) (1.16.0)\n"
          ]
        }
      ]
    },
    {
      "cell_type": "code",
      "source": [
        "from newsapi import NewsApiClient\n",
        "\n"
      ],
      "metadata": {
        "id": "ttPkD9vU6F6X"
      },
      "execution_count": null,
      "outputs": []
    },
    {
      "cell_type": "code",
      "source": [
        "#We prompt the client to query about any NSE company\n",
        "\n",
        "company = input(\"Please enter the name of the NSE company you would like to analyze: \")"
      ],
      "metadata": {
        "id": "CYW_hyyV66Ts",
        "colab": {
          "base_uri": "https://localhost:8080/"
        },
        "outputId": "bb897a33-9342-43e0-8de7-60e638899547"
      },
      "execution_count": null,
      "outputs": [
        {
          "name": "stdout",
          "output_type": "stream",
          "text": [
            "Please enter the name of the NSE company you would like to analyze: Safaricom\n"
          ]
        }
      ]
    },
    {
      "cell_type": "code",
      "source": [
        "import os\n",
        "os.environ[\"SERPAPI_API_KEY\"] = \"a526482aa918caee6ddcd520da46b953053a69509283d986b497cb9d3cb9b9ca\""
      ],
      "metadata": {
        "id": "4u8_-SPt9pMW"
      },
      "execution_count": null,
      "outputs": []
    },
    {
      "cell_type": "code",
      "source": [
        "import requests\n",
        "import yfinance as yf\n",
        "from yahooquery import Ticker\n",
        "\n",
        "def get_company_news(company_name):\n",
        "    params = {\n",
        "        \"engine\": \"google\",\n",
        "        \"tbm\": \"nws\",\n",
        "        \"q\": company_name,\n",
        "        \"api_key\": os.environ[\"SERPAPI_API_KEY\"],\n",
        "    }\n",
        "\n",
        "    response = requests.get('https://serpapi.com/search', params=params)\n",
        "    data = response.json()\n",
        "\n",
        "    return data.get('news_results')"
      ],
      "metadata": {
        "id": "EnNLVfhE9jJk"
      },
      "execution_count": null,
      "outputs": []
    },
    {
      "cell_type": "code",
      "source": [
        "get_company_news(company_name)"
      ],
      "metadata": {
        "colab": {
          "base_uri": "https://localhost:8080/"
        },
        "id": "5tbetw9__QjT",
        "outputId": "66452e47-cfd6-4ffa-906c-f1b3dab046f7"
      },
      "execution_count": null,
      "outputs": [
        {
          "output_type": "execute_result",
          "data": {
            "text/plain": [
              "[{'position': 1,\n",
              "  'link': 'https://www.reuters.com/business/media-telecom/safaricoms-ethiopia-struggle-deters-potential-telecoms-investors-2023-12-19/',\n",
              "  'title': \"Safaricom's Ethiopia struggle deters potential telecoms investors\",\n",
              "  'source': 'Reuters',\n",
              "  'date': '1 month ago',\n",
              "  'snippet': \"Foreign investor interest in Ethiopia's telecoms sector is cooling, sector \\nexperts and those with knowledge of the licencing process say,...\",\n",
              "  'thumbnail': 'https://serpapi.com/searches/65c515772c6878f9f25dc5d6/images/c86f702a31167c71080ef9742f4b99814d9ee48b7bdb66585c9e46c072ca919e.jpeg'},\n",
              " {'position': 2,\n",
              "  'link': 'https://itweb.africa/content/RgeVDvPRNyrMKJN3',\n",
              "  'title': 'Safaricom reports significant M-PESA growth in Ethiopia',\n",
              "  'source': 'ITWeb Africa',\n",
              "  'date': '2 days ago',\n",
              "  'snippet': \"M-PESA has 26200 agents and 43100 merchants, according to the company's \\nthird quarter 2023 update.\",\n",
              "  'thumbnail': 'https://serpapi.com/searches/65c515772c6878f9f25dc5d6/images/c86f702a31167c71dc29b9f8a9b4e52b135e847122be17252a6e1467100712a0.jpeg'},\n",
              " {'position': 3,\n",
              "  'link': 'https://www.businessdailyafrica.com/bd/corporate/companies/safaricom-parent-faces-sh170bn-bill-in-suit--4517750',\n",
              "  'title': 'Safaricom parent faces Sh170bn bill in suit',\n",
              "  'source': 'Business Daily',\n",
              "  'date': '14 hours ago',\n",
              "  'snippet': \"A South African man could receive up to Sh170 billion from Vodacom, as \\ncompensation for his innovation of the 'Please Call Me'.\",\n",
              "  'thumbnail': 'https://serpapi.com/searches/65c515772c6878f9f25dc5d6/images/c86f702a31167c71a0581c1169e40497bdf9ac308f3f9ae6c011f2c999d2b485.jpeg'},\n",
              " {'position': 4,\n",
              "  'link': 'https://www.telecompaper.com/news/safaricom-stops-m-pesa-transfers-to-unregistered-lines--1490083',\n",
              "  'title': 'Safaricom stops M-Pesa transfers to unregistered lines',\n",
              "  'source': 'Telecompaper',\n",
              "  'date': '3 days ago',\n",
              "  'snippet': 'Kenyan operator Safaricom says its M-Pesa customers can no longe send money \\nto unregistered users effective 05 February.',\n",
              "  'thumbnail': 'https://serpapi.com/searches/65c515772c6878f9f25dc5d6/images/c86f702a31167c71bb8ec514b4057a21185b9ea7970b108d92368b4adadd3172.jpeg'},\n",
              " {'position': 5,\n",
              "  'link': 'https://kenyanwallstreet.com/safaricom-mpesa-users-hit-3-1m-in-ethiopia/',\n",
              "  'title': 'Safaricom records 3.1m mpesa customers in Ethiopia',\n",
              "  'source': 'Kenyan Wallstreet',\n",
              "  'date': '1 day ago',\n",
              "  'snippet': 'Safaricom, the leading mobile phone operator in the Eastern Africa region, \\nhas posted 3.1 million M-PESA customers since its launch in...',\n",
              "  'thumbnail': 'https://serpapi.com/searches/65c515772c6878f9f25dc5d6/images/c86f702a31167c71952b57a297c79aaa19e3b6a552fcd9051dbed9decb4d8e4c.jpeg'},\n",
              " {'position': 6,\n",
              "  'link': 'https://innovation-village.com/safaricom-discontinues-m-pesa-transactions-to-unregistered-individuals/',\n",
              "  'title': 'Safaricom discontinues M-PESA transactions to unregistered individuals',\n",
              "  'source': 'Innovation Village',\n",
              "  'date': '4 days ago',\n",
              "  'snippet': 'Safaricom has announced a policy change preventing M-PESA users from \\nsending money to unregistered individuals.',\n",
              "  'thumbnail': 'https://serpapi.com/searches/65c515772c6878f9f25dc5d6/images/c86f702a31167c717ea7004e661169220a19bb32eabf3619cb6a27badd0075c1.jpeg'},\n",
              " {'position': 7,\n",
              "  'link': 'https://www.theeastafrican.co.ke/tea/business/safaricom-ethiopia-loans-hit-sh18-8bn--4516604',\n",
              "  'title': 'Safaricom Ethiopia loans hit $117m',\n",
              "  'source': 'The EastAfrican',\n",
              "  'date': '1 day ago',\n",
              "  'snippet': 'Safaricom CEO Peter Ndegwa during an interview at Michael Joseph Centre in \\nNairobi, Kenya on October 5, 2023. PHOTO | BILLY OGADA | NMG.',\n",
              "  'thumbnail': 'https://serpapi.com/searches/65c515772c6878f9f25dc5d6/images/c86f702a31167c71f76b5316f0fbd1a1449a4b7479989c8e8398d53f3a96febd.jpeg'},\n",
              " {'position': 8,\n",
              "  'link': 'https://www.datacenterdynamics.com/en/news/kenyas-safaricom-secures-137m-sustainability-loan/',\n",
              "  'title': \"Kenya's Safaricom secures $137m sustainability loan - DCD\",\n",
              "  'source': 'Data Center Dynamics',\n",
              "  'date': 'Sep 6, 2023',\n",
              "  'snippet': \"Kenya's Safaricom secures $137m sustainability loan ... Kenyan mobile \\noperator Safaricom has secured a Sustainability Linked Loan (SLL) of up \\nto...\",\n",
              "  'thumbnail': 'https://serpapi.com/searches/65c515772c6878f9f25dc5d6/images/c86f702a31167c7100511808b79dd93bb4564dcdbc6aa8b51833688b099ca1b4.jpeg'},\n",
              " {'position': 9,\n",
              "  'link': 'https://www.capitalfm.co.ke/sports/2024/02/08/safaricoms-m-pesa-commits-ksh34-8-million-in-sponsorship-for-2024-magical-kenya-ladies-open/',\n",
              "  'title': \"Safaricom's M-PESA commits Ksh34.8 million in sponsorship for 2024 Magical Kenya Ladies Open\",\n",
              "  'source': 'Capitalfm.co.ke',\n",
              "  'date': '7 hours ago',\n",
              "  'snippet': \"KILIFI, Kenya, Feb 8 - Safaricom's mobile money service, M-PESA, has \\nannounced a KES 34.8 million sponsorship for this year's Magical Kenya...\",\n",
              "  'thumbnail': 'https://serpapi.com/searches/65c515772c6878f9f25dc5d6/images/c86f702a31167c710ff5c670b699614686fb5c6ec66165ff45b17b0b8b208dd6.jpeg'},\n",
              " {'position': 10,\n",
              "  'link': 'https://www.bloomberg.com/news/articles/2023-11-09/kenya-s-safaricom-reports-2-1-rise-in-first-half-profit',\n",
              "  'title': 'Safaricom Profit Rises First Time in Two Years on Price Cuts',\n",
              "  'source': 'Bloomberg',\n",
              "  'date': 'Nov 9, 2023',\n",
              "  'snippet': \"Safaricom Plc, Kenya's biggest company by market value, reported a profit \\nincrease for the first time in two years after lower prices lured...\",\n",
              "  'thumbnail': 'https://serpapi.com/searches/65c515772c6878f9f25dc5d6/images/c86f702a31167c7102136dff39021036c418efda944b8c79f0ce04690f1a287a.jpeg'}]"
            ]
          },
          "metadata": {},
          "execution_count": 15
        }
      ]
    },
    {
      "cell_type": "code",
      "source": [
        "# Init\n",
        "newsapi = NewsApiClient(api_key='b0de9201606a4e38b5c98a3b1ec70f5d')\n",
        "\n",
        "# /v2/top-headlines\n",
        "top_headlines = newsapi.get_top_headlines(q=company,\n",
        "                                          category='business',\n",
        "                                          language='en'\n",
        "                                          )\n"
      ],
      "metadata": {
        "id": "RzZP2Jh26F3O"
      },
      "execution_count": null,
      "outputs": []
    },
    {
      "cell_type": "code",
      "source": [
        "#No headlines found by the API\n",
        "top_headlines"
      ],
      "metadata": {
        "id": "jSasb3qc6F0M",
        "colab": {
          "base_uri": "https://localhost:8080/"
        },
        "outputId": "2f56e74f-6416-4e1c-81f9-55f5f4d06283"
      },
      "execution_count": null,
      "outputs": [
        {
          "output_type": "execute_result",
          "data": {
            "text/plain": [
              "{'status': 'ok', 'totalResults': 0, 'articles': []}"
            ]
          },
          "metadata": {},
          "execution_count": 17
        }
      ]
    },
    {
      "cell_type": "code",
      "source": [
        "# We now try to fetch everything using \".get_everything\" function\n",
        "all_articles = newsapi.get_everything(\n",
        "    q=company,\n",
        "    language='en',\n",
        "    sort_by='relevancy',\n",
        "    page=1\n",
        ")"
      ],
      "metadata": {
        "id": "WQi2UInh6FxX"
      },
      "execution_count": null,
      "outputs": []
    },
    {
      "cell_type": "code",
      "source": [
        "# We now print all the articles found\n",
        "all_articles"
      ],
      "metadata": {
        "id": "PQJ1Msp_6Fun",
        "colab": {
          "base_uri": "https://localhost:8080/"
        },
        "outputId": "464449e6-f598-428e-f809-8c14b8e954d3"
      },
      "execution_count": null,
      "outputs": [
        {
          "output_type": "execute_result",
          "data": {
            "text/plain": [
              "{'status': 'ok',\n",
              " 'totalResults': 26,\n",
              " 'articles': [{'source': {'id': None, 'name': 'AllAfrica - Top Africa News'},\n",
              "   'author': None,\n",
              "   'title': 'Kenya: M-Pesa Services Back After Experiencing Downtime',\n",
              "   'description': \"[Capital FM] Nairobi -- Safaricom's M-MPesa, the mobile phone-based money transfer service application is after over two hours of delay.\",\n",
              "   'url': 'https://allafrica.com/stories/202401090287.html',\n",
              "   'urlToImage': 'https://cdn08.allafrica.com/static/images/structure/aa-logo-rgba-no-text-square.png',\n",
              "   'publishedAt': '2024-01-09T12:42:22Z',\n",
              "   'content': \"Nairobi — Safaricom's M-MPesa, the mobile phone-based money transfer service application is after over two hours of delay.\\r\\nThe countrywide delay, which began on Tuesday around 11:00 am, was being ex… [+408 chars]\"},\n",
              "  {'source': {'id': 'newsweek', 'name': 'Newsweek'},\n",
              "   'author': None,\n",
              "   'title': 'The Magic Ingredient for African Expansion: Collaborative Partnerships',\n",
              "   'description': 'By forming alliances with universities, HR leaders, and companies, businesses can build and sustain success in Africa.',\n",
              "   'url': 'https://www.newsweek.com/magic-ingredient-african-expansion-collaborative-partnerships-1859253',\n",
              "   'urlToImage': 'https://d.newsweek.com/en/full/2333444/african-american-hr-team.jpg',\n",
              "   'publishedAt': '2024-01-10T14:00:56Z',\n",
              "   'content': \"The secret to success in Africa's growing business world is working with others. This market is full of opportunities, where businesses can thrive by collaborating with the right partners.\\r\\nI will ou… [+5234 chars]\"},\n",
              "  {'source': {'id': None, 'name': 'Biztoc.com'},\n",
              "   'author': 'semafor.com',\n",
              "   'title': 'AI ads are sweeping across Africa',\n",
              "   'description': 'The News NAIROBI — African companies from Nairobi to Lagos are in a race to use artificial intelligence to cut their marketing and advertising budgets ahead of a difficult 2024 due to economic difficulties, fueling panic over potential job losses. Businesses …',\n",
              "   'url': 'https://biztoc.com/x/1845406a5501b714',\n",
              "   'urlToImage': 'https://c.biztoc.com/p/1845406a5501b714/s.webp',\n",
              "   'publishedAt': '2024-01-11T17:28:15Z',\n",
              "   'content': 'The NewsNAIROBI African companies from Nairobi to Lagos are in a race to use artificial intelligence to cut their marketing and advertising budgets ahead of a difficult 2024 due to economic difficult… [+279 chars]'},\n",
              "  {'source': {'id': None, 'name': 'Biztoc.com'},\n",
              "   'author': 'newsweek.com',\n",
              "   'title': 'The Magic Ingredient for African Expansion: Collaborative Partnerships',\n",
              "   'description': \"The secret to success in Africa's growing business world is working with others. This market is full of opportunities, where businesses can thrive by collaborating with the right partners. I will outline how to achieve this by teaming up with universities, HR…\",\n",
              "   'url': 'https://biztoc.com/x/271ec299e4801925',\n",
              "   'urlToImage': 'https://c.biztoc.com/p/271ec299e4801925/s.webp',\n",
              "   'publishedAt': '2024-01-10T14:10:06Z',\n",
              "   'content': \"The secret to success in Africa's growing business world is working with others. This market is full of opportunities, where businesses can thrive by collaborating with the right partners.I will outl… [+310 chars]\"},\n",
              "  {'source': {'id': None, 'name': 'Marketscreener.com'},\n",
              "   'author': None,\n",
              "   'title': 'Ethio Telecom reports higher half-year earnings and revenues',\n",
              "   'description': '(marketscreener.com) ADDIS ABABA -Ethiopian state-owned telecoms company Ethio Telecom said on Tuesday that its half-year earnings rose, helped by rising revenues.https://www.marketscreener.com/news/latest/Ethio-Telecom-reports-higher-half-year-earnings-and-r…',\n",
              "   'url': 'https://www.marketscreener.com/news/latest/Ethio-Telecom-reports-higher-half-year-earnings-and-revenues-45790815/',\n",
              "   'urlToImage': 'https://www.marketscreener.com/images/reuters/2023-02/2023-02-10T085042Z_1_LYNXMPEJ190B8_RTROPTP_3_ETHIOPIA-TELECOMS.JPG',\n",
              "   'publishedAt': '2024-01-23T08:45:23Z',\n",
              "   'content': 'ADDIS ABABA (Reuters) -Ethiopian state-owned telecoms company Ethio Telecom said on Tuesday that its half-year earnings rose, helped by rising revenues.\\r\\n Earnings before interest, tax, depreciation … [+659 chars]'},\n",
              "  {'source': {'id': None, 'name': 'Marketscreener.com'},\n",
              "   'author': None,\n",
              "   'title': 'Ethiopia opens up to foreign investment firms ahead of capital markets launch',\n",
              "   'description': \"(marketscreener.com) Ethiopia is set to issue\\nlicences to let foreign investment banks operate in the country,\\na key step ahead of its planned launch later this year of a\\nsecurities exchange, the regulator's director told Reuters.\\n The liberalisation initiati…\",\n",
              "   'url': 'https://www.marketscreener.com/quote/index/DOW-JONES-AFRICA-TITANS-5-3966403/news/Ethiopia-opens-up-to-foreign-investment-firms-ahead-of-capital-markets-launch-45765609/',\n",
              "   'urlToImage': 'https://www.marketscreener.com/images/twitter_MS_fdnoir.png',\n",
              "   'publishedAt': '2024-01-18T11:07:33Z',\n",
              "   'content': 'NAIROBI, Jan 18 (Reuters) - Ethiopia is set to issue\\r\\nlicences to let foreign investment banks operate in the country,\\r\\na key step ahead of its planned launch later this year of a\\r\\nsecurities exchang… [+2201 chars]'},\n",
              "  {'source': {'id': None, 'name': 'AllAfrica - Top Africa News'},\n",
              "   'author': None,\n",
              "   'title': 'Chapa Dimba Star Duncan Odhiambo in Mali for Training',\n",
              "   'description': '[Capital FM] Nairobi -- Safaricom Chapa Dimba sensational Duncan Odhiambo is in Mali, training with ABM Football Academy.',\n",
              "   'url': 'https://allafrica.com/stories/202401110030.html',\n",
              "   'urlToImage': 'https://cdn08.allafrica.com/static/images/structure/aa-logo-rgba-no-text-square.png',\n",
              "   'publishedAt': '2024-01-11T05:41:20Z',\n",
              "   'content': 'Nairobi — Safaricom Chapa Dimba sensational Duncan Odhiambo is in Mali, training with ABM Football Academy.\\r\\nThe 17-year-old, who was discovered during the Nyanza Region Safaricon Chapa Dimba Under-1… [+1484 chars]'},\n",
              "  {'source': {'id': None, 'name': 'AllAfrica - Top Africa News'},\n",
              "   'author': None,\n",
              "   'title': 'Safaricom Restores Paybill Services After Temporary Disruption Affects Millions',\n",
              "   'description': \"[Capital FM] Nairobi -- Safaricom, Kenya's leading telecommunications provider, says it has successfully resolved a technical issue that had disrupted its PayBill service, affecting millions of users.\",\n",
              "   'url': 'https://allafrica.com/stories/202401230312.html',\n",
              "   'urlToImage': 'https://cdn08.allafrica.com/static/images/structure/aa-logo-rgba-no-text-square.png',\n",
              "   'publishedAt': '2024-01-23T13:05:51Z',\n",
              "   'content': \"Nairobi — Safaricom, Kenya's leading telecommunications provider, says it has successfully resolved a technical issue that had disrupted its PayBill service, affecting millions of users.\\r\\nThe disrupt… [+1814 chars]\"},\n",
              "  {'source': {'id': None, 'name': 'AllAfrica - Top Africa News'},\n",
              "   'author': None,\n",
              "   'title': 'Ex-Safaricom CEO Anwar Soussa Joins Airtel Africa',\n",
              "   'description': '[Capital FM] Nairobi -- Former Safaricom Ethiopia CEO Anwar Soussa has joined Airtel Africa as its Regional Operations Director for the Franco markets.',\n",
              "   'url': 'https://allafrica.com/stories/202401110060.html',\n",
              "   'urlToImage': 'https://cdn08.allafrica.com/static/images/structure/aa-logo-rgba-no-text-square.png',\n",
              "   'publishedAt': '2024-01-11T07:54:56Z',\n",
              "   'content': 'Nairobi — Former Safaricom Ethiopia CEO Anwar Soussa has joined Airtel Africa as its Regional Operations Director for the Franco markets.\\r\\nSoussa was the founding CEO of the Ethiopian unit since 2021… [+736 chars]'},\n",
              "  {'source': {'id': None, 'name': 'Marketscreener.com'},\n",
              "   'author': None,\n",
              "   'title': \"Vodacom Group's Performance Boosted by Vodafone Egypt Acquisition\",\n",
              "   'description': '(marketscreener.com) \\n By Najat Kantouar \\n\\n\\n Vodacom Group reported an increase in third-quarter revenue, driven by the acquisition of Vodafone Egypt along with strong customer growth. \\n\\n The South Africa-based telecommunications company said Friday that for …',\n",
              "   'url': 'https://www.marketscreener.com/quote/stock/VODAFONE-GROUP-PUBLIC-LIM-15867071/news/Vodacom-Group-s-Performance-Boosted-by-Vodafone-Egypt-Acquisition-45870601/',\n",
              "   'urlToImage': 'https://www.marketscreener.com/images/twitter_MS_fdblanc.png',\n",
              "   'publishedAt': '2024-02-02T06:31:33Z',\n",
              "   'content': 'By Najat Kantouar \\r\\nVodacom Group reported an increase in third-quarter revenue, driven by the acquisition of Vodafone Egypt along with strong customer growth. \\r\\nThe South Africa-based telecommunicat… [+1347 chars]'},\n",
              "  {'source': {'id': None, 'name': 'AllAfrica - Top Africa News'},\n",
              "   'author': None,\n",
              "   'title': 'Kenya: M-Pesa Attributes the Outage to Scheduled Maintenance',\n",
              "   'description': '[Capital FM] Nairobi -- M-Pesa currently down as Safaricom attributes the outage to scheduled maintenance',\n",
              "   'url': 'https://allafrica.com/stories/202401090315.html',\n",
              "   'urlToImage': 'https://cdn08.allafrica.com/static/images/structure/aa-logo-rgba-no-text-square.png',\n",
              "   'publishedAt': '2024-01-09T13:31:02Z',\n",
              "   'content': 'Nairobi — M-Pesa currently down as Safaricom attributes the outage to scheduled maintenance\\r\\nM-Pesa is currently unavailable, as the telco attributes the outage to scheduled maintenance.\\r\\nThe service… [+418 chars]'},\n",
              "  {'source': {'id': None, 'name': 'AllAfrica - Top Africa News'},\n",
              "   'author': None,\n",
              "   'title': 'Fuel Stations, Online Food Delivery Platforms Hit By M-Pesa Outage',\n",
              "   'description': '[Capital FM] Nairobi -- Several fuel stations and online food delivery platforms were affected by the M-Pesa outage today, which affected transactions.',\n",
              "   'url': 'https://allafrica.com/stories/202401090286.html',\n",
              "   'urlToImage': 'https://cdn08.allafrica.com/static/images/structure/aa-logo-rgba-no-text-square.png',\n",
              "   'publishedAt': '2024-01-09T12:42:08Z',\n",
              "   'content': 'Nairobi — Several fuel stations and online food delivery platforms were affected by the M-Pesa outage today, which affected transactions.\\r\\nAt major gas stations, attendants were turning away customer… [+792 chars]'},\n",
              "  {'source': {'id': None, 'name': 'AllAfrica - Top Africa News'},\n",
              "   'author': None,\n",
              "   'title': \"Kenya: Safaricom Customers Won't Be Able to Send Money From M-Pesa to Unregistered Mobile Accounts From Monday\",\n",
              "   'description': '[Capital FM] Nairobi -- Safaricom says customers will not be able to send money from M-Pesa to unregistered mobile accounts from Monday.',\n",
              "   'url': 'https://allafrica.com/stories/202402030204.html',\n",
              "   'urlToImage': 'https://cdn08.allafrica.com/static/images/structure/aa-logo-rgba-no-text-square.png',\n",
              "   'publishedAt': '2024-02-03T17:28:02Z',\n",
              "   'content': 'Nairobi — Safaricom says customers will not be able to send money from M-Pesa to unregistered mobile accounts from Monday.\\r\\nIn a statement, the mobile phone operator however stated that registered cu… [+565 chars]'},\n",
              "  {'source': {'id': None, 'name': 'AllAfrica - Top Africa News'},\n",
              "   'author': None,\n",
              "   'title': 'Kenya: President Ruto Commissions M-Pesa Foundation Project at Kamagut Primary School',\n",
              "   'description': '[Capital FM] Eldoret -- M-PESA Foundation and Ministry of Education commissioned a project for the construction of a Junior School and renovations at Kamagut Primary School in Uasin Gishu County in an event graced by His Excellency President William Ruto.',\n",
              "   'url': 'https://allafrica.com/stories/202401100034.html',\n",
              "   'urlToImage': 'https://cdn08.allafrica.com/static/images/structure/aa-logo-rgba-no-text-square.png',\n",
              "   'publishedAt': '2024-01-10T06:19:20Z',\n",
              "   'content': 'Eldoret — M-PESA Foundation and Ministry of Education commissioned a project for the construction of a Junior School and renovations at Kamagut Primary School in Uasin Gishu County in an event graced… [+2300 chars]'},\n",
              "  {'source': {'id': None, 'name': 'Mpasho.co.ke'},\n",
              "   'author': 'Dennis Milimo',\n",
              "   'title': 'Mpesa services currently unavailable',\n",
              "   'description': 'Safaricom-owned Mpesa is currently experiencing downtime.',\n",
              "   'url': 'https://mpasho.co.ke/entertainment/2024-01-09-mpesa-services-currently-unavailable/',\n",
              "   'urlToImage': 'https://lh3.googleusercontent.com/raoA2mEvQKVuSzOLZbvTrUTY-Z9MKVyDMskMghJwBT4gH8bXt6J7PykhVxrAFHi-43jmHVNbzuH-ukRc1IBIUco4k0u7lSl2NlSWUQ=s1000',\n",
              "   'publishedAt': '2024-01-09T11:28:50Z',\n",
              "   'content': 'Mobile phone-based money transfer service, Mpesa is currently unavailable for millions of its customers across the country.\\r\\nOn January 9, 2024, several Kenyans took to social media to report Mpesa d… [+388 chars]'},\n",
              "  {'source': {'id': None, 'name': 'Kiss100.co.ke'},\n",
              "   'author': 'Dennis Milimo',\n",
              "   'title': 'Lulu Hassan & Eugene Mbugua named among 50 most Influential CEOs in Kenya [Full List]',\n",
              "   'description': 'Citizen TV Swahili News Anchor Lulu Hassan, Filmmaker Eugene Mbugua, Stanbic CEO Joshua Oigara and Safaricom CEO Peter Ndegwa has been named among the 50 most Influential CEOs in Kenya.',\n",
              "   'url': 'https://kiss100.co.ke/entertainment/2024-01-24-lulu-hassan-eugene-mbugua-named-among-50-most-influential-ceos-in-kenya-full-list/',\n",
              "   'urlToImage': 'https://lh3.googleusercontent.com/lNfoSGjZOYL8Com3Ou9F9i_q8gXdCL7t730ZQ2IH4qvrxePZYl1-6I-ySXDE42yaFE2doNvQ_hU7QGqDnAY7hx5yVPOXjDpgJg=s1000',\n",
              "   'publishedAt': '2024-01-24T14:50:16Z',\n",
              "   'content': 'Citizen TV Swahili News Anchor Lulu Hassan, Filmmaker Eugene Mbugua, Stanbic CEO Joshua Oigara and Safaricom CEO Peter Ndegwa\\xa0 has been named among the 50 most Influential CEOs in Kenya.\\r\\nThe Jiff Pi… [+514 chars]'},\n",
              "  {'source': {'id': None, 'name': 'TelecomTV'},\n",
              "   'author': 'TelecomTV Staff',\n",
              "   'title': 'What’s up with… Zegona & Vodafone, Ericsson & Open RAN, Samsung',\n",
              "   'description': 'Zegona gets the EC green light to buy Vodafone SpainUBS downgrades Ericsson over Open RAN concernsSamsung’s margins take a dive',\n",
              "   'url': 'https://www.telecomtv.com/content/access-evolution/what-s-up-with-zegona-vodafone-ericsson-open-ran-samsung-49525/',\n",
              "   'urlToImage': 'https://assets.telecomtv.com/assets/telecomtv/vodafone-spain-17311.jpeg?w=1200',\n",
              "   'publishedAt': '2024-01-31T17:03:28Z',\n",
              "   'content': 'In today’s industry news roundup: The European Commission has given Zegona the all clear to acquire Vodafone Spain for €5bn; UBS investment analysts believe Open RAN investments are going to weigh he… [+9344 chars]'},\n",
              "  {'source': {'id': None, 'name': 'Pulse Live Kenya'},\n",
              "   'author': 'Amos Robi',\n",
              "   'title': 'Safaricom issues notice of disruption of M-Pesa pay Bill service',\n",
              "   'description': 'After widespread complaints regarding the Pay Bill services, telecommunications provider Safaricom has officially acknowledged encountering issues with the payment service, M-Pesa PayBill.',\n",
              "   'url': 'https://www.pulselive.co.ke/business/domestic/safaricom-issues-notice-of-disruption-of-m-pesa-pay-bill-service/n653r7k#article',\n",
              "   'urlToImage': 'https://ocdn.eu/pulscms-transforms/1/Y9uktkpTURBXy8wNDA4OWE5ZGViOGQ1YjVjYjk5NjJiY2M0ZmE5MzMyZS5qcGeSlQMAJ80FAM0C0JMFzQSwzQJ2',\n",
              "   'publishedAt': '2024-01-23T07:52:09Z',\n",
              "   'content': 'In a notice released on Tuesday morning, the telecom giant admitted to facing recurring service intermittency, leading to disruptions in certain Pay Bill payments. \\r\\nSafaricom assured users that its … [+1559 chars]'},\n",
              "  {'source': {'id': None, 'name': 'Swalanyeti.co.ke'},\n",
              "   'author': 'Naaman Otieno',\n",
              "   'title': 'Safaricom announces full restoration of M-Pesa services after hours of disruption',\n",
              "   'description': 'Safaricom’s M-Pesa mobile money transfer services have been fully restored after hours of disruption, bringing relief to millions of users who were adversely affected by the outage.',\n",
              "   'url': 'https://swalanyeti.co.ke/business/article/7951/safaricom-announces-full-restoration-of-m-pesa-services-after-hours-of-disruption',\n",
              "   'urlToImage': 'https://swalanyeti.co.ke/storage/uploads/2023/12/F0cdwXbXwAElRpK-1703062423.jpeg',\n",
              "   'publishedAt': '2024-01-11T20:56:09Z',\n",
              "   'content': 'Safaricoms M-Pesa mobile money transfer services have been fully restored after hours of disruption, bringing relief to millions of users who were adversely affected by the outage.\\r\\nIn a statement on… [+1148 chars]'},\n",
              "  {'source': {'id': None, 'name': 'Pulse Live Kenya'},\n",
              "   'author': 'Pulse Mix',\n",
              "   'title': 'Safaricom, M-PESA Africa & Sumitomo Corporation launch Spark Accelerator Program call for applications',\n",
              "   'description': '#FeatureBySafaricom - The three-month program will support early-stage Fintech and Content startups to accelerate growth.',\n",
              "   'url': 'https://www.pulselive.co.ke/business/domestic/safaricom-m-pesa-africa-and-sumitomo-corporation-launch-spark-accelerator-program/18d6kg4#article',\n",
              "   'urlToImage': 'https://ocdn.eu/pulscms-transforms/1/jrnktkqTURBXy85YjBmNzczN2M0ZjgwNGM2OTNlNGM3NGQ2YTg2YzNiOC5qcGVnkpUDADLNBj_NA4OTBc0EsM0Cdg',\n",
              "   'publishedAt': '2024-01-19T10:12:53Z',\n",
              "   'content': 'The three-month accelerator program will provide a blend of training, mentorship, funding and go-to-market support to spark the growth and scale of ventures that come into the accelerator and set the… [+3344 chars]'},\n",
              "  {'source': {'id': None, 'name': 'Nation.africa'},\n",
              "   'author': 'Nation Team',\n",
              "   'title': 'M-Pesa services experiencing technical hitch',\n",
              "   'description': 'The popular mobile money service suffered outage on Tuesday morning.',\n",
              "   'url': 'https://nation.africa/kenya/business/safaricom-m-pesa-services-are-now-available-4486312',\n",
              "   'urlToImage': 'https://nation.africa/resource/image/317446/landscape_ratio3x2/1200/800/ee2181dd029319383fdcd5e99ec4ec6a/sA/mpesapic.jpg',\n",
              "   'publishedAt': '2024-01-09T09:41:39Z',\n",
              "   'content': 'Safaricom now all M-Pesa services are now available and apologises for the inconveniences caused by the outage.\\r\\n\"\"All M-Pesa service are now available. We apologise for any inconveniences caused and… [+1952 chars]'},\n",
              "  {'source': {'id': None, 'name': 'Kiss100.co.ke'},\n",
              "   'author': 'Kiss100',\n",
              "   'title': \"Rashid Abdalla over the moon after Lulu Hassan's new milestone\",\n",
              "   'description': \"Rashid Abdalla over the moon after Lulu Hassan's new milestonekiss100.co.ke\",\n",
              "   'url': 'https://kiss100.co.ke/entertainment/2024-01-26-rashid-abdalla-over-the-moon-after-lulu-hassans-new-milestone/',\n",
              "   'urlToImage': 'https://lh3.googleusercontent.com/1paMi7GiweRFMhZQDc1-4ZAp8lzgpVPbWc6GTZHiMqdFQwkJg7kVQFLkExgZNf0YTzx9uZObvJ0KBInXERLmXeXZZgudI_jD=s1000',\n",
              "   'publishedAt': '2024-01-26T06:28:57Z',\n",
              "   'content': 'Media Personality Rashid Abdalla has penned a congratulatory message to his wife Lulu Hassan after she was named among the 50 most influential CEOs in Kenya.\\r\\nTaking to his socials, the Citizen TV ne… [+3377 chars]'},\n",
              "  {'source': {'id': None, 'name': 'Nation.africa'},\n",
              "   'author': 'Kepha Muiruri',\n",
              "   'title': 'NSE best and worst performing stocks of 2023',\n",
              "   'description': '<p>Uganda’s Umeme Limited topped the bourse as most stocks recorded dismal gains due to poor economy and foreign investor flight</p><p></p>',\n",
              "   'url': 'https://nation.africa/kenya/business/nse-best-and-worst-performing-stocks-of-2023-4485674',\n",
              "   'urlToImage': 'https://nation.africa/resource/image/4486084/landscape_ratio3x2/1200/800/cc572b88e425c25cd6ae8282b6dc864b/fP/nse.jpg',\n",
              "   'publishedAt': '2024-01-09T09:23:58Z',\n",
              "   'content': 'Uganda-based energy utility Umeme Limited, cross-listed on the Nairobi Securities Exchange (NSE), delivered the highest returns to investors last year as its share price rose by 115.6 per cent.\\r\\nThe … [+2512 chars]'},\n",
              "  {'source': {'id': None,\n",
              "    'name': 'Breaking NEWS in KENYA for Today Right Now & Kenyan News | TUKO'},\n",
              "   'author': 'William Osoro',\n",
              "   'title': 'Martha Koome’s Favourite Spoken Word Artiste Stages Thrilling Performances in Matatus',\n",
              "   'description': 'Nakuru spoken word artiste Willie Oeba gained nationwide recognition for his hard-hitting messages pushing for social justice and political awareness.',\n",
              "   'url': 'https://www.tuko.co.ke/entertainment/celebrities/535174-martha-koomes-favourite-spoken-word-artiste-stages-thrilling-performances-matatus/',\n",
              "   'urlToImage': 'https://netstorage-tuko.akamaized.net/images/ebb46e7d379a0ff0.png?imwidth=1200',\n",
              "   'publishedAt': '2024-01-20T12:51:59Z',\n",
              "   'content': '<ul><li>Willie Oeba first gained nationwide recognition through the Nakuru Safaricom BLAZE summit</li><li>His hard-hitting messages attracted a legion of fans including fans, including King Kaka and … [+3135 chars]'},\n",
              "  {'source': {'id': None, 'name': 'TelecomTV'},\n",
              "   'author': 'Ray Le Maistre',\n",
              "   'title': 'Vodafone makes its digital services, GenAI bed with Microsoft',\n",
              "   'description': 'Vodafone has struck a 10-year digital services and generative AI partnership with MicrosoftThe companies will team up closely on enterprise service development…',\n",
              "   'url': 'https://www.telecomtv.com/content/digital-platforms-services/vodafone-makes-its-digital-services-genai-bed-with-microsoft-49398/',\n",
              "   'urlToImage': 'https://assets.telecomtv.com/assets/telecomtv/margherita-della-valle-vodafone-and-satya-nadella-microsoft-1920-1024x683-17662.jpeg?w=1200',\n",
              "   'publishedAt': '2024-01-16T14:46:21Z',\n",
              "   'content': 'Vodafone and Microsoft have struck a deep and far-reaching digital services and generative AI (GenAI) partnership that will tie them together strategically and financially, and see the telco and big … [+9453 chars]'},\n",
              "  {'source': {'id': None, 'name': 'Nation.africa'},\n",
              "   'author': 'Patrick Alushula',\n",
              "   'title': 'How State courts financial mess with awkward loan schemes',\n",
              "   'description': '<p>From digital to group loans and now payment of health cover, the government is getting itself into a space it has struggled to leave a mark.</p>',\n",
              "   'url': 'https://nation.africa/kenya/business/how-state-courts-financial-mess-with-awkward-loan-schemes--4515032',\n",
              "   'urlToImage': 'https://nation.africa/resource/image/4515072/landscape_ratio3x2/1200/800/16436ac60bbfd54a4cb92326fdf0c45c/LJ/nhif-building.jpg',\n",
              "   'publishedAt': '2024-02-06T03:35:34Z',\n",
              "   'content': 'The government is boxing itself into a potential debt mess as it increasingly rolls out products that involve lending out money to the public amid a checkered past in the inroads it has made in the f… [+5439 chars]'}]}"
            ]
          },
          "metadata": {},
          "execution_count": 19
        }
      ]
    },
    {
      "cell_type": "markdown",
      "source": [
        "# Data preprocessing\n",
        "\n",
        "We now clean the the data\n",
        "\n",
        "We should extract `title`and `description` from the above JSON output into a well formatted text.\n"
      ],
      "metadata": {
        "id": "qwsyBEW78Jis"
      }
    },
    {
      "cell_type": "code",
      "source": [
        "formatted_articles = []\n",
        "\n",
        "for article in all_articles['articles']:\n",
        "  title = article['title']\n",
        "  description = article['description']\n",
        "\n",
        "  formatted_text = f\"Title: {title} \\n Description: {description}\"\n",
        "\n",
        "  formatted_articles.append(formatted_text)\n",
        "\n",
        "\n",
        "for article_text in formatted_articles:\n",
        "  print(article_text)\n",
        "\n",
        "\n",
        "\n",
        "\n"
      ],
      "metadata": {
        "id": "tdt5ZDB76FsA",
        "colab": {
          "base_uri": "https://localhost:8080/"
        },
        "outputId": "76e9b498-6a5a-4a51-dd89-af508169a03d"
      },
      "execution_count": null,
      "outputs": [
        {
          "output_type": "stream",
          "name": "stdout",
          "text": [
            "Title: Kenya: M-Pesa Services Back After Experiencing Downtime \n",
            " Description: [Capital FM] Nairobi -- Safaricom's M-MPesa, the mobile phone-based money transfer service application is after over two hours of delay.\n",
            "Title: The Magic Ingredient for African Expansion: Collaborative Partnerships \n",
            " Description: By forming alliances with universities, HR leaders, and companies, businesses can build and sustain success in Africa.\n",
            "Title: AI ads are sweeping across Africa \n",
            " Description: The News NAIROBI — African companies from Nairobi to Lagos are in a race to use artificial intelligence to cut their marketing and advertising budgets ahead of a difficult 2024 due to economic difficulties, fueling panic over potential job losses. Businesses …\n",
            "Title: The Magic Ingredient for African Expansion: Collaborative Partnerships \n",
            " Description: The secret to success in Africa's growing business world is working with others. This market is full of opportunities, where businesses can thrive by collaborating with the right partners. I will outline how to achieve this by teaming up with universities, HR…\n",
            "Title: Ethio Telecom reports higher half-year earnings and revenues \n",
            " Description: (marketscreener.com) ADDIS ABABA -Ethiopian state-owned telecoms company Ethio Telecom said on Tuesday that its half-year earnings rose, helped by rising revenues.https://www.marketscreener.com/news/latest/Ethio-Telecom-reports-higher-half-year-earnings-and-r…\n",
            "Title: Ethiopia opens up to foreign investment firms ahead of capital markets launch \n",
            " Description: (marketscreener.com) Ethiopia is set to issue\n",
            "licences to let foreign investment banks operate in the country,\n",
            "a key step ahead of its planned launch later this year of a\n",
            "securities exchange, the regulator's director told Reuters.\n",
            " The liberalisation initiati…\n",
            "Title: Chapa Dimba Star Duncan Odhiambo in Mali for Training \n",
            " Description: [Capital FM] Nairobi -- Safaricom Chapa Dimba sensational Duncan Odhiambo is in Mali, training with ABM Football Academy.\n",
            "Title: Safaricom Restores Paybill Services After Temporary Disruption Affects Millions \n",
            " Description: [Capital FM] Nairobi -- Safaricom, Kenya's leading telecommunications provider, says it has successfully resolved a technical issue that had disrupted its PayBill service, affecting millions of users.\n",
            "Title: Ex-Safaricom CEO Anwar Soussa Joins Airtel Africa \n",
            " Description: [Capital FM] Nairobi -- Former Safaricom Ethiopia CEO Anwar Soussa has joined Airtel Africa as its Regional Operations Director for the Franco markets.\n",
            "Title: Vodacom Group's Performance Boosted by Vodafone Egypt Acquisition \n",
            " Description: (marketscreener.com) \n",
            " By Najat Kantouar \n",
            "\n",
            "\n",
            " Vodacom Group reported an increase in third-quarter revenue, driven by the acquisition of Vodafone Egypt along with strong customer growth. \n",
            "\n",
            " The South Africa-based telecommunications company said Friday that for …\n",
            "Title: Kenya: M-Pesa Attributes the Outage to Scheduled Maintenance \n",
            " Description: [Capital FM] Nairobi -- M-Pesa currently down as Safaricom attributes the outage to scheduled maintenance\n",
            "Title: Fuel Stations, Online Food Delivery Platforms Hit By M-Pesa Outage \n",
            " Description: [Capital FM] Nairobi -- Several fuel stations and online food delivery platforms were affected by the M-Pesa outage today, which affected transactions.\n",
            "Title: Kenya: Safaricom Customers Won't Be Able to Send Money From M-Pesa to Unregistered Mobile Accounts From Monday \n",
            " Description: [Capital FM] Nairobi -- Safaricom says customers will not be able to send money from M-Pesa to unregistered mobile accounts from Monday.\n",
            "Title: Kenya: President Ruto Commissions M-Pesa Foundation Project at Kamagut Primary School \n",
            " Description: [Capital FM] Eldoret -- M-PESA Foundation and Ministry of Education commissioned a project for the construction of a Junior School and renovations at Kamagut Primary School in Uasin Gishu County in an event graced by His Excellency President William Ruto.\n",
            "Title: Mpesa services currently unavailable \n",
            " Description: Safaricom-owned Mpesa is currently experiencing downtime.\n",
            "Title: Lulu Hassan & Eugene Mbugua named among 50 most Influential CEOs in Kenya [Full List] \n",
            " Description: Citizen TV Swahili News Anchor Lulu Hassan, Filmmaker Eugene Mbugua, Stanbic CEO Joshua Oigara and Safaricom CEO Peter Ndegwa has been named among the 50 most Influential CEOs in Kenya.\n",
            "Title: What’s up with… Zegona & Vodafone, Ericsson & Open RAN, Samsung \n",
            " Description: Zegona gets the EC green light to buy Vodafone SpainUBS downgrades Ericsson over Open RAN concernsSamsung’s margins take a dive\n",
            "Title: Safaricom issues notice of disruption of M-Pesa pay Bill service \n",
            " Description: After widespread complaints regarding the Pay Bill services, telecommunications provider Safaricom has officially acknowledged encountering issues with the payment service, M-Pesa PayBill.\n",
            "Title: Safaricom announces full restoration of M-Pesa services after hours of disruption \n",
            " Description: Safaricom’s M-Pesa mobile money transfer services have been fully restored after hours of disruption, bringing relief to millions of users who were adversely affected by the outage.\n",
            "Title: Safaricom, M-PESA Africa & Sumitomo Corporation launch Spark Accelerator Program call for applications \n",
            " Description: #FeatureBySafaricom - The three-month program will support early-stage Fintech and Content startups to accelerate growth.\n",
            "Title: M-Pesa services experiencing technical hitch \n",
            " Description: The popular mobile money service suffered outage on Tuesday morning.\n",
            "Title: Rashid Abdalla over the moon after Lulu Hassan's new milestone \n",
            " Description: Rashid Abdalla over the moon after Lulu Hassan's new milestonekiss100.co.ke\n",
            "Title: NSE best and worst performing stocks of 2023 \n",
            " Description: <p>Uganda’s Umeme Limited topped the bourse as most stocks recorded dismal gains due to poor economy and foreign investor flight</p><p></p>\n",
            "Title: Martha Koome’s Favourite Spoken Word Artiste Stages Thrilling Performances in Matatus \n",
            " Description: Nakuru spoken word artiste Willie Oeba gained nationwide recognition for his hard-hitting messages pushing for social justice and political awareness.\n",
            "Title: Vodafone makes its digital services, GenAI bed with Microsoft \n",
            " Description: Vodafone has struck a 10-year digital services and generative AI partnership with MicrosoftThe companies will team up closely on enterprise service development…\n",
            "Title: How State courts financial mess with awkward loan schemes \n",
            " Description: <p>From digital to group loans and now payment of health cover, the government is getting itself into a space it has struggled to leave a mark.</p>\n"
          ]
        }
      ]
    },
    {
      "cell_type": "code",
      "source": [
        "!pip install nltk"
      ],
      "metadata": {
        "id": "FIRFhbLGIadA",
        "colab": {
          "base_uri": "https://localhost:8080/"
        },
        "outputId": "198cc4d2-4ab7-4687-c749-8d826076279a"
      },
      "execution_count": null,
      "outputs": [
        {
          "output_type": "stream",
          "name": "stdout",
          "text": [
            "Requirement already satisfied: nltk in /usr/local/lib/python3.10/dist-packages (3.8.1)\n",
            "Requirement already satisfied: click in /usr/local/lib/python3.10/dist-packages (from nltk) (8.1.7)\n",
            "Requirement already satisfied: joblib in /usr/local/lib/python3.10/dist-packages (from nltk) (1.3.2)\n",
            "Requirement already satisfied: regex>=2021.8.3 in /usr/local/lib/python3.10/dist-packages (from nltk) (2023.12.25)\n",
            "Requirement already satisfied: tqdm in /usr/local/lib/python3.10/dist-packages (from nltk) (4.66.1)\n"
          ]
        }
      ]
    },
    {
      "cell_type": "code",
      "source": [
        "import nltk\n",
        "from nltk.sentiment import SentimentIntensityAnalyzer\n",
        "import matplotlib.pyplot as plt\n",
        "\n",
        "#Download the vader extension\n",
        "nltk.download('vader_lexicon')\n",
        "\n",
        "#create a sentiment analyzer object\n",
        "SIA = SentimentIntensityAnalyzer()\n",
        "\n",
        "def analyze_sentiment(text):\n",
        "  sentiment_score = SIA.polarity_scores(text)['compound']\n",
        "  if sentiment_score >= 0.5:\n",
        "    return 'Positive'\n",
        "  elif sentiment_score <= 0.5:\n",
        "    return 'Negative'\n",
        "  else:\n",
        "    return 'Neutral'\n",
        "\n",
        "\n",
        "sentiment_counts = {'Positive': 0, 'Negative': 0, 'Neutral':0}\n",
        "\n",
        "for article_text in formatted_articles:\n",
        "  sentiment = analyze_sentiment(article_text)\n",
        "  sentiment_counts[sentiment] += 1\n",
        "\n",
        "#create a bar chart to observe the sentiments\n",
        "labels = list(sentiment_counts.keys())\n",
        "values = list(sentiment_counts.values())\n",
        "\n",
        "#create the bar chart\n",
        "plt.bar(labels, values, color=['green', 'red', 'grey'])\n",
        "plt.title('Sentiment distribution')\n",
        "plt.xlabel('sentiment')\n",
        "plt.ylabel('number of articles')\n",
        "plt.show()\n",
        "\n",
        "\n"
      ],
      "metadata": {
        "id": "YLcXWsejIfXI",
        "colab": {
          "base_uri": "https://localhost:8080/",
          "height": 489
        },
        "outputId": "3203a5b3-a086-4567-e30f-1fd4aeab69f6"
      },
      "execution_count": null,
      "outputs": [
        {
          "output_type": "stream",
          "name": "stderr",
          "text": [
            "[nltk_data] Downloading package vader_lexicon to /root/nltk_data...\n"
          ]
        },
        {
          "output_type": "display_data",
          "data": {
            "text/plain": [
              "<Figure size 640x480 with 1 Axes>"
            ],
            "image/png": "[encoded data removed]"
          },
          "metadata": {}
        }
      ]
    },
    {
      "cell_type": "code",
      "execution_count": null,
      "metadata": {
        "id": "vvPYfQD7_p6p",
        "colab": {
          "base_uri": "https://localhost:8080/"
        },
        "outputId": "630c855b-b556-428f-8e61-5e3f0273c460"
      },
      "outputs": [
        {
          "output_type": "stream",
          "name": "stdout",
          "text": [
            "[{'ticker': 'NCBA', 'name': 'NCBA Group Plc', 'volume': '8,300', 'price': '38.50', 'change': '-0.05'}]\n"
          ]
        }
      ],
      "source": [
        "import requests\n",
        "\n",
        "url = \"https://nairobi-stock-exchange-nse.p.rapidapi.com/stocks/NCBA\"\n",
        "\n",
        "headers = {\n",
        "    \"X-RapidAPI-Key\": \"0cf13a36c4msh495157ed96c1abbp15b7e6jsn96f46df4a28a\",\n",
        "    \"X-RapidAPI-Host\": \"nairobi-stock-exchange-nse.p.rapidapi.com\"\n",
        "}\n",
        "\n",
        "response = requests.get(url, headers=headers)\n",
        "\n",
        "print(response.json())"
      ]
    },
    {
      "cell_type": "code",
      "source": [],
      "metadata": {
        "id": "kjRb_PpisWPB"
      },
      "execution_count": null,
      "outputs": []
    }
  ]
}